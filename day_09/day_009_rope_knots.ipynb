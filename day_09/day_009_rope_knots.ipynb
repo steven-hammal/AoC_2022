{
 "cells": [
  {
   "cell_type": "markdown",
   "metadata": {
    "dotnet_interactive": {
     "language": "csharp"
    }
   },
   "source": [
    "# Advent of Code Day 9: Rope Knots\n",
    "\n",
    "### Part 1:\n",
    "\n",
    "Given a set of movements for teh head of the rope, how mnay unique coordinates deos the tail occupy as it follows the head?\n",
    "\n",
    "### Part 2:"
   ]
  },
  {
   "cell_type": "markdown",
   "metadata": {},
   "source": [
    "## Solution Functions\n"
   ]
  },
  {
   "cell_type": "code",
   "execution_count": null,
   "metadata": {},
   "outputs": [],
   "source": [
    "def read_input_from(file_name: str) -> str:\n",
    "    with open(file_name) as input_file:\n",
    "        return input_file.read().splitlines()\n",
    "\n",
    "def get_distinct_tail_coordinates_visited_from(head_moves: 'list[str]') -> int:\n",
    "    \n",
    "    return 1"
   ]
  },
  {
   "cell_type": "markdown",
   "metadata": {},
   "source": [
    "## Part 1 Test Cases\n"
   ]
  },
  {
   "cell_type": "code",
   "execution_count": null,
   "metadata": {},
   "outputs": [],
   "source": [
    "test_case = [\"R 4\",\"U 4\",\"L 3\",\"D 1\",\"R 4\",\"D 1\",\"L 5\",\"R 2\"]\n",
    "test_result = get_distinct_tail_coordinates_visited_from(test_case)\n",
    "\n",
    "print(test_result == 13)"
   ]
  },
  {
   "cell_type": "markdown",
   "metadata": {},
   "source": [
    "## Part 1 Answer\n"
   ]
  },
  {
   "cell_type": "code",
   "execution_count": null,
   "metadata": {},
   "outputs": [],
   "source": [
    "moves = read_input_from(\"day_9_input.txt\")\n",
    "answer = get_distinct_tail_coordinates_visited_from(moves)\n",
    "\n",
    "print(answer)"
   ]
  },
  {
   "cell_type": "markdown",
   "metadata": {},
   "source": [
    "## Part 2 Test Cases\n"
   ]
  },
  {
   "cell_type": "code",
   "execution_count": null,
   "metadata": {},
   "outputs": [],
   "source": [
    "test_case = []\n",
    "test_result = <function name>(test_case)\n",
    "\n",
    "print(test_result == ?)"
   ]
  },
  {
   "cell_type": "markdown",
   "metadata": {},
   "source": [
    "## Part 2 Answer\n"
   ]
  },
  {
   "cell_type": "code",
   "execution_count": null,
   "metadata": {},
   "outputs": [],
   "source": [
    "moves = read_input_from(\"day_9_input.txt\")\n",
    "answer = <function name>(moves)\n",
    "\n",
    "print(answer)"
   ]
  }
 ],
 "metadata": {
  "kernelspec": {
   "display_name": "Python 3.7.3",
   "language": "python",
   "name": "python3"
  },
  "language_info": {
   "codemirror_mode": {
    "name": "ipython",
    "version": 3
   },
   "file_extension": ".py",
   "mimetype": "text/x-python",
   "name": "python",
   "nbconvert_exporter": "python",
   "pygments_lexer": "ipython3",
   "version": "3.7.3"
  },
  "orig_nbformat": 4,
  "vscode": {
   "interpreter": {
    "hash": "cf8360bec719338bb78b7a78da46310b2cfaf9983785919522efe702c72b0c76"
   }
  }
 },
 "nbformat": 4,
 "nbformat_minor": 2
}
