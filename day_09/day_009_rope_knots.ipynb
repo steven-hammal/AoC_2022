{
 "cells": [
  {
   "cell_type": "markdown",
   "metadata": {
    "dotnet_interactive": {
     "language": "csharp"
    }
   },
   "source": [
    "# Advent of Code Day 9: Rope Knots\n",
    "\n",
    "### Part 1:\n",
    "\n",
    "Given a set of movements for the head of the rope, how many unique coordinates does the tail occupy as it follows the head?\n",
    "\n",
    "### Part 2:\n",
    "\n",
    "Given a set of movements for the head of the rope of length 10, how many unique coordinates does the tail occupy as it follows the head?\n"
   ]
  },
  {
   "cell_type": "markdown",
   "metadata": {},
   "source": [
    "## Solution Functions\n"
   ]
  },
  {
   "cell_type": "code",
   "execution_count": null,
   "metadata": {},
   "outputs": [],
   "source": [
    "import copy\n",
    "\n",
    "def read_input_from(file_name: str) -> str:\n",
    "    with open(file_name) as input_file:\n",
    "        return input_file.read().splitlines()\n",
    "\n",
    "directions = {'U': (0, 1), 'R': (1, 0), 'D': (0, -1), 'L': (-1, 0)}\n",
    "\n",
    "def get_move_stream_from(head_moves: 'list[str]') -> 'list[str]':\n",
    "    move_stream = []\n",
    "\n",
    "    for head_move in head_moves:\n",
    "        direction, times = head_move.split(\" \")\n",
    "        spread_move = [directions[direction]] * int(times)\n",
    "        move_stream.extend(spread_move)\n",
    "\n",
    "    return move_stream\n",
    "\n",
    "\n",
    "def get_distinct_tail_coordinates_visited_from(head_moves: 'list[str]', number_of_knots: 'int') -> 'int':\n",
    "    move_stream = get_move_stream_from(head_moves)\n",
    "    \n",
    "    tail_trail = []\n",
    "    \n",
    "    rope = [(0, 0)] * number_of_knots\n",
    "\n",
    "    for move in move_stream:\n",
    "        next_move = move\n",
    "        for knot in range(len(rope) - 1):\n",
    "            print(knot, knot + 1)\n",
    "            print(rope[knot], rope[knot + 1], next_move)\n",
    "            rope[knot], rope[knot + 1], next_move = apply_move(rope[knot], rope[knot + 1], next_move)\n",
    "            print(rope[knot], rope[knot + 1], next_move)\n",
    "            print(rope)\n",
    "\n",
    "        tail_trail.append(rope[-1])\n",
    "\n",
    "    return len(set(tail_trail))\n",
    "    \n",
    "\n",
    "def apply_move(head_pos: '(int, int)', tail_pos: '(int, int)', move: '(int, int)') -> '((int, int), (int, int), (int, int))':\n",
    "    # tuples are immutable so need to create new instances\n",
    "    original_tail_position = copy.copy(tail_pos)\n",
    "    head_pos  = (head_pos[0] + move[0], head_pos[1] + move[1])\n",
    "    # vertical movement of tail\n",
    "    # if the row distance between head and tail > 1, then move the tail toward the head\n",
    "    if abs(head_pos[1] - tail_pos[1]) >= 2:\n",
    "        tail_pos = (tail_pos[0], tail_pos[1] + move[1])\n",
    "        # if the h and t are not in same col, then move tail to same column as head\n",
    "        if head_pos[0] != tail_pos[0]:\n",
    "            tail_pos = (head_pos[0], tail_pos[1])\n",
    "    # horizontal movement of tail\n",
    "    # if the col distance between head and tail > 1, then move the tail toward the head\n",
    "    elif abs(head_pos[0] - tail_pos[0]) >= 2:\n",
    "        tail_pos = (tail_pos[0] + move[0], tail_pos[1])\n",
    "        # if the h and t are not in same row, then move tail to same row as head\n",
    "        if head_pos[1] != tail_pos[1]:\n",
    "            tail_pos = (tail_pos[0], head_pos[1])\n",
    "\n",
    "    next_move = (tail_pos[0] - original_tail_position[0], tail_pos[1] - original_tail_position[1]) # The issue is that this move gets applied to the element that has just been updated with the same move as the tail in this iteration\n",
    "                                                                                                   # If there is time, go back and reimplement in a way that applies a move to a knot at a time, but now need to keep learning\n",
    "    return (head_pos, original_tail_position, next_move)\n"
   ]
  },
  {
   "cell_type": "markdown",
   "metadata": {},
   "source": [
    "## Part 1 Test Cases\n"
   ]
  },
  {
   "cell_type": "code",
   "execution_count": null,
   "metadata": {},
   "outputs": [],
   "source": [
    "test_case = [\"R 4\",\"U 4\",\"L 3\",\"D 1\",\"R 4\",\"D 1\",\"L 5\",\"R 2\"]\n",
    "test_result = get_distinct_tail_coordinates_visited_from(test_case, 2)\n",
    "\n",
    "print(test_result == 13)"
   ]
  },
  {
   "cell_type": "markdown",
   "metadata": {},
   "source": [
    "## Part 1 Answer\n"
   ]
  },
  {
   "cell_type": "code",
   "execution_count": null,
   "metadata": {},
   "outputs": [],
   "source": [
    "moves = read_input_from(\"day_9_input.txt\")\n",
    "answer = get_distinct_tail_coordinates_visited_from(moves, 2)\n",
    "\n",
    "print(answer)"
   ]
  },
  {
   "cell_type": "markdown",
   "metadata": {},
   "source": [
    "## Part 2 Test Cases\n"
   ]
  },
  {
   "cell_type": "code",
   "execution_count": null,
   "metadata": {},
   "outputs": [],
   "source": [
    "test_case = [\"R 4\",\"U 4\",\"L 3\",\"D 1\",\"R 4\",\"D 1\",\"L 5\",\"R 2\"]\n",
    "test_result = get_distinct_tail_coordinates_visited_from(test_case, 10)\n",
    "\n",
    "print(test_result)\n",
    "\n",
    "print(test_result == 1)"
   ]
  },
  {
   "cell_type": "markdown",
   "metadata": {},
   "source": [
    "## Part 2 Answer\n"
   ]
  },
  {
   "cell_type": "code",
   "execution_count": null,
   "metadata": {},
   "outputs": [],
   "source": [
    "moves = read_input_from(\"day_9_input.txt\")\n",
    "answer = get_distinct_tail_coordinates_visited_from(moves, 10)\n",
    "\n",
    "print(answer)"
   ]
  },
  {
   "cell_type": "code",
   "execution_count": null,
   "metadata": {},
   "outputs": [],
   "source": []
  }
 ],
 "metadata": {
  "kernelspec": {
   "display_name": "Python 3.7.3",
   "language": "python",
   "name": "python3"
  },
  "language_info": {
   "codemirror_mode": {
    "name": "ipython",
    "version": 3
   },
   "file_extension": ".py",
   "mimetype": "text/x-python",
   "name": "python",
   "nbconvert_exporter": "python",
   "pygments_lexer": "ipython3",
   "version": "3.7.3"
  },
  "orig_nbformat": 4,
  "vscode": {
   "interpreter": {
    "hash": "cf8360bec719338bb78b7a78da46310b2cfaf9983785919522efe702c72b0c76"
   }
  }
 },
 "nbformat": 4,
 "nbformat_minor": 2
}
