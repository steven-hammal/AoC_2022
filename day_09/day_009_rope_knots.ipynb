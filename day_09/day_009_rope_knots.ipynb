{
 "cells": [
  {
   "cell_type": "markdown",
   "metadata": {
    "dotnet_interactive": {
     "language": "csharp"
    }
   },
   "source": [
    "# Advent of Code Day 9: Rope Knots\n",
    "\n",
    "### Part 1:\n",
    "\n",
    "Given a set of movements for the head of the rope, how mnay unique coordinates deos the tail occupy as it follows the head?\n",
    "\n",
    "### Part 2:"
   ]
  },
  {
   "cell_type": "markdown",
   "metadata": {},
   "source": [
    "## Solution Functions\n"
   ]
  },
  {
   "cell_type": "code",
   "execution_count": null,
   "metadata": {},
   "outputs": [],
   "source": [
    "import os\n",
    "\n",
    "def read_input_from(file_name: str) -> str:\n",
    "    with open(file_name) as input_file:\n",
    "        return input_file.read().splitlines()\n",
    "\n",
    "def get_distinct_tail_coordinates_visited_from(head_moves: 'list[str]') -> 'int':\n",
    "    move_stream = get_move_stream_from(head_moves)\n",
    "    \n",
    "    tail_trail = []\n",
    "    # Initialise head and tail positions\n",
    "    head_pos = (0, 0)\n",
    "    tail_pos = (0, 0)\n",
    "\n",
    "    for move in move_stream:        \n",
    "        head_pos, tail_pos = apply_move_to(head_pos, tail_pos, move)\n",
    "        tail_trail.append(tail_pos)\n",
    "\n",
    "    return len(set(tail_trail))\n",
    "\n",
    "def get_move_stream_from(head_moves: 'list[str]') -> 'list[str]':\n",
    "    move_stream = []\n",
    "\n",
    "    for head_move in head_moves:\n",
    "        direction, times = head_move.split(\" \")\n",
    "        spread_move = [direction] * int(times)\n",
    "        move_stream.extend(spread_move)\n",
    "\n",
    "    return move_stream\n",
    "\n",
    "def apply_move_to(head_pos: '(int, int)', tail_pos: '(int, int)', move: 'str') -> '((int, int),(int, int))':\n",
    "    if move == 'U':\n",
    "        head_pos, tail_pos = move_up(head_pos, tail_pos)\n",
    "\n",
    "    if move == 'R':\n",
    "        head_pos, tail_pos = move_right(head_pos, tail_pos)\n",
    "\n",
    "    if move == 'D':\n",
    "        head_pos, tail_pos = move_down(head_pos, tail_pos)\n",
    "\n",
    "    if move == 'L':\n",
    "        head_pos, tail_pos = move_left(head_pos, tail_pos)\n",
    "\n",
    "    return (head_pos, tail_pos)\n",
    "\n",
    "def move_up(head_pos: '(int, int)', tail_pos: '(int, int)') -> '((int, int),(int, int))':    \n",
    "    # always move the head up 1\n",
    "    # tuples are immutable so need to create new instances\n",
    "    head_pos  = (head_pos[0], head_pos[1] + 1)\n",
    "    # if the row distance between head and tail > 1, then move the tail toward the head\n",
    "    if abs(head_pos[1] - tail_pos[1]) >= 2:\n",
    "        tail_pos = (tail_pos[0], tail_pos[1] + 1)\n",
    "    # if the h and t are not in same col, then move to same column as head\n",
    "        if head_pos[0] != tail_pos[0]:\n",
    "            tail_pos = (head_pos[0], tail_pos[1])\n",
    "    \n",
    "    return (head_pos, tail_pos)\n",
    "\n",
    "def move_right(head_pos: '(int, int)', tail_pos: '(int, int)') -> '((int, int),(int, int))':\n",
    "    # always move the head right 1\n",
    "    head_pos  = (head_pos[0] + 1, head_pos[1])\n",
    "    # if the col distance between head and tail > 1, then move the tail toward the head\n",
    "    if abs(head_pos[0] - tail_pos[0]) >= 2:\n",
    "        tail_pos = (tail_pos[0] + 1, tail_pos[1])\n",
    "    # if the h and t are not in same row, then move to same row as head\n",
    "        if head_pos[1] != tail_pos[1]:\n",
    "            tail_pos = (tail_pos[0], head_pos[1])\n",
    "    \n",
    "    return (head_pos, tail_pos)\n",
    "\n",
    "def move_down(head_pos: '(int, int)', tail_pos: '(int, int)') -> '((int, int),(int, int))':\n",
    "    # always move the head down 1\n",
    "    head_pos  = (head_pos[0], head_pos[1] - 1)\n",
    "    # if the row distance between head and tail > 1, then move the tail toward the head\n",
    "    if abs(head_pos[1] - tail_pos[1]) >= 2:\n",
    "        tail_pos = (tail_pos[0], tail_pos[1] - 1)\n",
    "    # if the h and t are not in same col, then move to same column as head\n",
    "        if head_pos[0] != tail_pos[0]:\n",
    "            tail_pos = (head_pos[0], tail_pos[1])\n",
    "    \n",
    "    return (head_pos, tail_pos)\n",
    "\n",
    "def move_left(head_pos: '(int, int)', tail_pos: '(int, int)') -> '((int, int),(int, int))':\n",
    "    # always move the head left 1\n",
    "    head_pos  = (head_pos[0] - 1, head_pos[1])\n",
    "    # if the col distance between head and tail > 1, then move the tail toward the head\n",
    "    if abs(head_pos[0] - tail_pos[0]) >= 2:\n",
    "        tail_pos = (tail_pos[0] - 1, tail_pos[1])\n",
    "    # if the h and t are not in same row, then move to same row as head\n",
    "        if head_pos[1] != tail_pos[1]:\n",
    "            tail_pos = (tail_pos[0], head_pos[1])\n",
    "    \n",
    "    return (head_pos, tail_pos)\n"
   ]
  },
  {
   "cell_type": "markdown",
   "metadata": {},
   "source": [
    "## Part 1 Test Cases\n"
   ]
  },
  {
   "cell_type": "code",
   "execution_count": null,
   "metadata": {},
   "outputs": [],
   "source": [
    "test_case = [\"R 4\",\"U 4\",\"L 3\",\"D 1\",\"R 4\",\"D 1\",\"L 5\",\"R 2\"]\n",
    "test_result = get_distinct_tail_coordinates_visited_from(test_case)\n",
    "\n",
    "print(test_result == 13)"
   ]
  },
  {
   "cell_type": "markdown",
   "metadata": {},
   "source": [
    "## Part 1 Answer\n"
   ]
  },
  {
   "cell_type": "code",
   "execution_count": null,
   "metadata": {},
   "outputs": [],
   "source": [
    "moves = read_input_from(\"day_9_input.txt\")\n",
    "answer = get_distinct_tail_coordinates_visited_from(moves)\n",
    "\n",
    "print(answer)"
   ]
  },
  {
   "cell_type": "markdown",
   "metadata": {},
   "source": [
    "## Part 2 Test Cases\n"
   ]
  },
  {
   "cell_type": "code",
   "execution_count": null,
   "metadata": {},
   "outputs": [],
   "source": [
    "test_case = []\n",
    "test_result = <function name>(test_case)\n",
    "\n",
    "print(test_result == ?)"
   ]
  },
  {
   "cell_type": "markdown",
   "metadata": {},
   "source": [
    "## Part 2 Answer\n"
   ]
  },
  {
   "cell_type": "code",
   "execution_count": null,
   "metadata": {},
   "outputs": [],
   "source": [
    "moves = read_input_from(\"day_9_input.txt\")\n",
    "answer = <function name>(moves)\n",
    "\n",
    "print(answer)"
   ]
  }
 ],
 "metadata": {
  "kernelspec": {
   "display_name": "Python 3.7.3",
   "language": "python",
   "name": "python3"
  },
  "language_info": {
   "codemirror_mode": {
    "name": "ipython",
    "version": 3
   },
   "file_extension": ".py",
   "mimetype": "text/x-python",
   "name": "python",
   "nbconvert_exporter": "python",
   "pygments_lexer": "ipython3",
   "version": "3.7.3"
  },
  "orig_nbformat": 4,
  "vscode": {
   "interpreter": {
    "hash": "cf8360bec719338bb78b7a78da46310b2cfaf9983785919522efe702c72b0c76"
   }
  }
 },
 "nbformat": 4,
 "nbformat_minor": 2
}
