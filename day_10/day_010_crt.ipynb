{
 "cells": [
  {
   "cell_type": "markdown",
   "metadata": {
    "dotnet_interactive": {
     "language": "csharp"
    }
   },
   "source": [
    "# Advent of Code Day 10: CRT\n",
    "\n",
    "### Part 1:\n",
    "\n",
    "Find the sum of signal strengths at 20, 60, 100, 140, 180, 220 cycles.\n",
    "\n",
    "* noop = 1 cycle and does nothing\n",
    "* addx = 2 cycles and adds some value to the current register value\n",
    "\n",
    "Signal strength at some cycle = current cycle number * current register value\n",
    "\n",
    "\n",
    "### Part 2:\n",
    "\n",
    "\n"
   ]
  },
  {
   "cell_type": "markdown",
   "metadata": {},
   "source": [
    "## Solution Functions\n"
   ]
  },
  {
   "cell_type": "code",
   "execution_count": null,
   "metadata": {},
   "outputs": [],
   "source": [
    "def read_input_from(file_name: str) -> str:\n",
    "    with open(file_name) as input_file:\n",
    "        return input_file.read().splitlines()\n",
    "\n",
    "max_cycles = 220\n",
    "addx_command = 'addx'\n",
    "\n",
    "def get_interesting_signal_strength_sum_from(instructions: 'list[str]') -> 'int':\n",
    "    return sum(get_interesting_signal_strengths_from(instructions))\n",
    "\n",
    "def get_interesting_signal_strengths_from(instructions: 'list[str]') -> 'list[int]':\n",
    "    reg_x_value = 1\n",
    "    cycle_number = 1\n",
    "    interesting_signal_strengths = []\n",
    "    for instruction in instructions:\n",
    "        if is_interesting(cycle_number):\n",
    "                interesting_signal_strengths.append(cycle_number * reg_x_value)\n",
    "        command_value_pair = instruction.split(\" \")\n",
    "        if command_value_pair[0] == addx_command:\n",
    "            cycle_number += 1\n",
    "            if is_interesting(cycle_number):\n",
    "                interesting_signal_strengths.append(cycle_number * reg_x_value)\n",
    "            cycle_number += 1\n",
    "            reg_x_value += int(command_value_pair[1])\n",
    "        else:\n",
    "            cycle_number += 1 # must be noop\n",
    "\n",
    "    return interesting_signal_strengths\n",
    "\n",
    "def is_interesting(cycle_number: 'int') -> 'bool':\n",
    "    return cycle_number in [20, 60, 100, 140, 180, 220]\n"
   ]
  },
  {
   "cell_type": "markdown",
   "metadata": {},
   "source": [
    "## Part 1 Test Cases\n"
   ]
  },
  {
   "cell_type": "code",
   "execution_count": null,
   "metadata": {},
   "outputs": [],
   "source": [
    "test_case = read_input_from(\"day_10_part_1_testcase.txt\")\n",
    "test_result = get_interesting_signal_strength_sum_from(test_case)\n",
    "\n",
    "print(test_result == 13140)"
   ]
  },
  {
   "cell_type": "markdown",
   "metadata": {},
   "source": [
    "## Part 1 Answer\n"
   ]
  },
  {
   "cell_type": "code",
   "execution_count": null,
   "metadata": {},
   "outputs": [],
   "source": [
    "instructions = read_input_from(\"day_10_input.txt\")\n",
    "answer = get_interesting_signal_strength_sum_from(instructions)\n",
    "\n",
    "print(answer)"
   ]
  },
  {
   "cell_type": "markdown",
   "metadata": {},
   "source": [
    "## Part 2 Test Cases\n"
   ]
  },
  {
   "cell_type": "code",
   "execution_count": null,
   "metadata": {},
   "outputs": [],
   "source": [
    "test_case = []\n",
    "test_result = <function name>(test_case)\n",
    "\n",
    "print(test_result == ?)"
   ]
  },
  {
   "cell_type": "markdown",
   "metadata": {},
   "source": [
    "## Part 2 Answer\n"
   ]
  },
  {
   "cell_type": "code",
   "execution_count": null,
   "metadata": {},
   "outputs": [],
   "source": [
    "? = read_grid_from(\"day_X_input.txt\")\n",
    "answer = <function name>(?)\n",
    "\n",
    "print(answer)"
   ]
  }
 ],
 "metadata": {
  "kernelspec": {
   "display_name": "Python 3.7.3",
   "language": "python",
   "name": "python3"
  },
  "language_info": {
   "codemirror_mode": {
    "name": "ipython",
    "version": 3
   },
   "file_extension": ".py",
   "mimetype": "text/x-python",
   "name": "python",
   "nbconvert_exporter": "python",
   "pygments_lexer": "ipython3",
   "version": "3.7.3"
  },
  "orig_nbformat": 4,
  "vscode": {
   "interpreter": {
    "hash": "cf8360bec719338bb78b7a78da46310b2cfaf9983785919522efe702c72b0c76"
   }
  }
 },
 "nbformat": 4,
 "nbformat_minor": 2
}
