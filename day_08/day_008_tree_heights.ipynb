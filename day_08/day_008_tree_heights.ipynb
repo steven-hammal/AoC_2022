{
 "cells": [
  {
   "cell_type": "markdown",
   "metadata": {
    "dotnet_interactive": {
     "language": "csharp"
    }
   },
   "source": [
    "# Advent of Code Day 8: Tree Heights\n",
    "\n",
    "### Part 1:\n",
    "\n",
    "Find a count of how many trees are visible from outside a grid, that is, how many trees have no trees taller than themselves between them and an outside observer?\n",
    "\n",
    "### Part 2:\n",
    "\n",
    "Find the highest _scenic score_ of any tree in the grid.  Determine this by finding how many trees are of the same or lower height in all directions and finding the product of those 4 values\n"
   ]
  },
  {
   "cell_type": "markdown",
   "metadata": {},
   "source": [
    "## Solution Functions\n"
   ]
  },
  {
   "cell_type": "code",
   "execution_count": null,
   "metadata": {},
   "outputs": [],
   "source": [
    "from itertools import takewhile\n",
    "\n",
    "def read_grid_from(file_name: str) -> str:\n",
    "    with open(file_name) as input_file:\n",
    "        return input_file.read().splitlines()\n",
    "\n",
    "\n",
    "def get_visible_tree_count_from(grid: 'list[str]') -> int:\n",
    "    visible_trees = 0\n",
    "\n",
    "    for row_index in range(0, len(grid)):                   # x coordinate\n",
    "        for col_index in range(0, len(grid[row_index])):    # y coordinate\n",
    "            if is_visible(row_index, col_index, grid):\n",
    "                visible_trees += 1\n",
    "\n",
    "    return visible_trees\n",
    "\n",
    "\n",
    "def is_visible(row_index: 'int', col_index: 'int', grid: 'list[str]') -> bool:\n",
    "    tree_height = int(grid[row_index][col_index])\n",
    "    trees_to_the_left, \\\n",
    "    trees_to_the_right, \\\n",
    "    trees_above, \\\n",
    "    trees_below = get_orthogonal_trees(row_index, col_index, grid)\n",
    "\n",
    "    return is_visible_from_one_direction(tree_height, trees_to_the_left) or \\\n",
    "           is_visible_from_one_direction(tree_height, trees_to_the_right) or \\\n",
    "           is_visible_from_one_direction(tree_height, trees_above) or \\\n",
    "           is_visible_from_one_direction(tree_height, trees_below)        \n",
    "           \n",
    "\n",
    "def is_visible_from_one_direction(tree_height: 'int', trees_on_axis: 'list[int]') -> bool:\n",
    "    return not trees_on_axis or tree_height > max(trees_on_axis, default=0)\n",
    "\n",
    "\n",
    "def get_max_scenic_score_from(grid: 'list[str]') -> int:\n",
    "    scenic_scores = []\n",
    "\n",
    "    for row_index in range(0, len(grid)):                   # x coordinate\n",
    "        for col_index in range(0, len(grid[row_index])):    # y coordinate\n",
    "            scenic_scores.append(get_scenic_score_for_tree(row_index, col_index, grid))\n",
    "\n",
    "    return max(scenic_scores)\n",
    "\n",
    "\n",
    "def get_scenic_score_for_tree(row_index: 'int', col_index: 'int', grid: 'list[str]') -> int:\n",
    "    tree_height = int(grid[row_index][col_index])\n",
    "    trees_to_the_left, \\\n",
    "    trees_to_the_right, \\\n",
    "    trees_above, \\\n",
    "    trees_below = get_orthogonal_trees(row_index, col_index, grid)\n",
    "\n",
    "    # up and leftward directions need to be considered from nearest to tree outward\n",
    "    trees_to_the_left.reverse()\n",
    "    trees_above.reverse()\n",
    "\n",
    "    return get_scenic_score_from_one_direction(tree_height, trees_to_the_left) * \\\n",
    "           get_scenic_score_from_one_direction(tree_height, trees_to_the_right) * \\\n",
    "           get_scenic_score_from_one_direction(tree_height, trees_above) * \\\n",
    "           get_scenic_score_from_one_direction(tree_height, trees_below)\n",
    "\n",
    "\n",
    "def get_scenic_score_from_one_direction(tree_height: 'int', trees_on_axis: 'list[int]') -> int:\n",
    "    # Must be a more elegant way to take while next visible tree is < tree height but then also take the next element\n",
    "    # as well. the element that actually blocks the view\n",
    "    visible_trees = []\n",
    "    index = 0\n",
    "    can_see_further = True\n",
    "    while can_see_further:\n",
    "        if index < len(trees_on_axis):\n",
    "            if trees_on_axis[index] >= tree_height:\n",
    "                visible_trees.append(trees_on_axis[index])\n",
    "                can_see_further = False\n",
    "            if trees_on_axis[index] < tree_height:\n",
    "                visible_trees.append(trees_on_axis[index])\n",
    "                index += 1\n",
    "        else: \n",
    "            can_see_further = False\n",
    "        \n",
    "    return len(visible_trees)\n",
    "    \n",
    "\n",
    "\n",
    "def get_orthogonal_trees(row_index: 'int', col_index: 'int', grid: 'list[str]'):\n",
    "    trees_to_the_left = [int(x) for x in grid[row_index][:col_index]]\n",
    "    trees_to_the_right = [int(x) for x in grid[row_index][col_index + 1:]]\n",
    "    trees_above = [int(row[col_index]) for row in grid[:row_index]]\n",
    "    trees_below = [int(row[col_index]) for row in grid[row_index + 1:]]\n",
    "\n",
    "    return (trees_to_the_left, trees_to_the_right, trees_above, trees_below)"
   ]
  },
  {
   "cell_type": "markdown",
   "metadata": {},
   "source": [
    "## Part 1 Test Cases\n"
   ]
  },
  {
   "cell_type": "code",
   "execution_count": null,
   "metadata": {},
   "outputs": [],
   "source": [
    "test_case = ['30373','25512','65332','33549','35390']\n",
    "test_result = get_visible_tree_count_from(test_case)\n",
    "\n",
    "print(test_result == 21)"
   ]
  },
  {
   "cell_type": "markdown",
   "metadata": {},
   "source": [
    "## Part 1 Answer\n"
   ]
  },
  {
   "cell_type": "code",
   "execution_count": null,
   "metadata": {},
   "outputs": [],
   "source": [
    "tree_grid = read_grid_from(\"day_8_input.txt\")\n",
    "answer = get_visible_tree_count_from(tree_grid)\n",
    "\n",
    "print(answer)"
   ]
  },
  {
   "cell_type": "markdown",
   "metadata": {},
   "source": [
    "## Part 2 Test Cases\n"
   ]
  },
  {
   "cell_type": "code",
   "execution_count": null,
   "metadata": {},
   "outputs": [],
   "source": [
    "test_case = ['30373','25512','65332','33549','35390']\n",
    "test_result = get_max_scenic_score_from(test_case)\n",
    "\n",
    "print(test_result == 8)"
   ]
  },
  {
   "cell_type": "markdown",
   "metadata": {},
   "source": [
    "## Part 2 Answer\n"
   ]
  },
  {
   "cell_type": "code",
   "execution_count": null,
   "metadata": {},
   "outputs": [],
   "source": [
    "tree_grid = read_grid_from(\"day_8_input.txt\")\n",
    "answer = get_max_scenic_score_from(tree_grid)\n",
    "\n",
    "print(answer)"
   ]
  }
 ],
 "metadata": {
  "kernelspec": {
   "display_name": "Python 3.7.3",
   "language": "python",
   "name": "python3"
  },
  "language_info": {
   "codemirror_mode": {
    "name": "ipython",
    "version": 3
   },
   "file_extension": ".py",
   "mimetype": "text/x-python",
   "name": "python",
   "nbconvert_exporter": "python",
   "pygments_lexer": "ipython3",
   "version": "3.7.3"
  },
  "orig_nbformat": 4,
  "vscode": {
   "interpreter": {
    "hash": "cf8360bec719338bb78b7a78da46310b2cfaf9983785919522efe702c72b0c76"
   }
  }
 },
 "nbformat": 4,
 "nbformat_minor": 2
}
