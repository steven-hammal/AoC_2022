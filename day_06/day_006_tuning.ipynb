{
 "cells": [
  {
   "cell_type": "markdown",
   "metadata": {
    "dotnet_interactive": {
     "language": "csharp"
    }
   },
   "source": [
    "# Advent of Code Day 6: Tuning\n",
    "\n",
    "Write a function that windows over a string 4 chars at a time and rturns the first index after a block of 4 chars does not contain a repeated char"
   ]
  },
  {
   "cell_type": "markdown",
   "metadata": {},
   "source": [
    "## Solution Functions"
   ]
  },
  {
   "cell_type": "code",
   "execution_count": 7,
   "metadata": {},
   "outputs": [],
   "source": [
    "def read_signal_from(file_name: str) -> str:\n",
    "    '''\n",
    "    Reads the content from a file containing a signal stream\n",
    "    '''\n",
    "    with open(file_name) as input_file:\n",
    "        return input_file.read()\n",
    "\n",
    "\n",
    "def find_start_of_packet_marker_in(signal_stream: str) -> int:\n",
    "    '''\n",
    "    Given a string of alphabet characters, return the index after the first block\n",
    "    of 4 chars that does not contain a repeated char\n",
    "    '''\n",
    "    return find_marker_in(signal_stream, 4)\n",
    "\n",
    "def find_start_of_message_marker_in(signal_stream: str) -> int:\n",
    "    '''\n",
    "    Given a string of alphabet characters, return the index after the first block\n",
    "    of 14 chars that does not contain a repeated char\n",
    "    '''\n",
    "    return find_marker_in(signal_stream, 14)\n",
    "\n",
    "def find_marker_in(signal_stream: str, window_size: int) -> int:\n",
    "    '''\n",
    "    Given a string of alphabet characters, return the index after the first block\n",
    "    of window_size chars that does not contain a repeated char, or -1 if there are no \n",
    "    blocks of unique chars of window_size\n",
    "    '''\n",
    "    for i in range(0, len(signal_stream), 1):\n",
    "        potential_packet_marker = signal_stream[i:i+window_size]\n",
    "        if len(potential_packet_marker) == window_size and is_packet_marker(potential_packet_marker):\n",
    "            return i+window_size\n",
    "\n",
    "    return -1\n",
    "\n",
    "def is_packet_marker(potential_packet_marker: str) -> bool:\n",
    "    '''\n",
    "    Returns true if given string contains no repeated chars.\n",
    "    Sets are distinct in Python so if the length of the string is the same as\n",
    "    a set of that string then no chars are removed in the set, therefore\n",
    "    all chars in the string are unique\n",
    "    '''\n",
    "    return len(set(potential_packet_marker)) == len(potential_packet_marker)\n"
   ]
  },
  {
   "cell_type": "markdown",
   "metadata": {},
   "source": [
    "## Part 1 Test Cases"
   ]
  },
  {
   "cell_type": "code",
   "execution_count": 8,
   "metadata": {},
   "outputs": [
    {
     "name": "stdout",
     "output_type": "stream",
     "text": [
      "True\n",
      "True\n",
      "True\n",
      "True\n",
      "True\n"
     ]
    }
   ],
   "source": [
    "test_case_1 = \"mjqjpqmgbljsphdztnvjfqwrcgsmlb\"\n",
    "test_result_1 = find_start_of_packet_marker_in(test_case_1)\n",
    "\n",
    "test_case_2 = \"bvwbjplbgvbhsrlpgdmjqwftvncz\"\n",
    "test_result_2 = find_start_of_packet_marker_in(test_case_2)\n",
    "\n",
    "test_case_3 = \"nppdvjthqldpwncqszvftbrmjlhg\"\n",
    "test_result_3 = find_start_of_packet_marker_in(test_case_3)\n",
    "\n",
    "test_case_4 = \"nznrnfrfntjfmvfwmzdfjlvtqnbhcprsg\"\n",
    "test_result_4 = find_start_of_packet_marker_in(test_case_4)\n",
    "\n",
    "test_case_5 = \"zcfzfwzzqfrljwzlrfnpqdbhtmscgvjw\"\n",
    "test_result_5 = find_start_of_packet_marker_in(test_case_5)\n",
    "\n",
    "print(test_result_1 == 7)\n",
    "print(test_result_2 == 5)\n",
    "print(test_result_3 == 6)\n",
    "print(test_result_4 == 10)\n",
    "print(test_result_5 == 11)"
   ]
  },
  {
   "cell_type": "markdown",
   "metadata": {},
   "source": [
    "## Part 1 Answer"
   ]
  },
  {
   "cell_type": "code",
   "execution_count": 9,
   "metadata": {},
   "outputs": [
    {
     "name": "stdout",
     "output_type": "stream",
     "text": [
      "1235\n"
     ]
    }
   ],
   "source": [
    "signal = read_signal_from(\"day_6_input.txt\")\n",
    "answer = find_start_of_packet_marker_in(signal)\n",
    "\n",
    "print(answer)"
   ]
  },
  {
   "cell_type": "markdown",
   "metadata": {},
   "source": [
    "## Part 2 Test Cases"
   ]
  },
  {
   "cell_type": "code",
   "execution_count": null,
   "metadata": {},
   "outputs": [],
   "source": [
    "test_case_1 = \"mjqjpqmgbljsphdztnvjfqwrcgsmlb\"\n",
    "test_result_1 = find_start_of_message_marker_in(test_case_1)\n",
    "\n",
    "test_case_2 = \"bvwbjplbgvbhsrlpgdmjqwftvncz\"\n",
    "test_result_2 = find_start_of_message_marker_in(test_case_2)\n",
    "\n",
    "test_case_3 = \"nppdvjthqldpwncqszvftbrmjlhg\"\n",
    "test_result_3 = find_start_of_message_marker_in(test_case_3)\n",
    "\n",
    "test_case_4 = \"nznrnfrfntjfmvfwmzdfjlvtqnbhcprsg\"\n",
    "test_result_4 = find_start_of_message_marker_in(test_case_4)\n",
    "\n",
    "test_case_5 = \"zcfzfwzzqfrljwzlrfnpqdbhtmscgvjw\"\n",
    "test_result_5 = find_start_of_message_marker_in(test_case_5)\n",
    "\n",
    "print(test_result_1 == 19)\n",
    "print(test_result_2 == 23)\n",
    "print(test_result_3 == 23)\n",
    "print(test_result_4 == 29)\n",
    "print(test_result_5 == 26)"
   ]
  },
  {
   "cell_type": "markdown",
   "metadata": {},
   "source": [
    "## Part 2 Answer"
   ]
  }
 ],
 "metadata": {
  "kernelspec": {
   "display_name": "Python 3.7.3",
   "language": "python",
   "name": "python3"
  },
  "language_info": {
   "codemirror_mode": {
    "name": "ipython",
    "version": 3
   },
   "file_extension": ".py",
   "mimetype": "text/x-python",
   "name": "python",
   "nbconvert_exporter": "python",
   "pygments_lexer": "ipython3",
   "version": "3.7.3"
  },
  "orig_nbformat": 4,
  "vscode": {
   "interpreter": {
    "hash": "cf8360bec719338bb78b7a78da46310b2cfaf9983785919522efe702c72b0c76"
   }
  }
 },
 "nbformat": 4,
 "nbformat_minor": 2
}
