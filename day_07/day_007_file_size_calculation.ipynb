{
 "cells": [
  {
   "cell_type": "markdown",
   "metadata": {
    "dotnet_interactive": {
     "language": "csharp"
    }
   },
   "source": [
    "# Advent of Code Day 7: File Size Calculation\n",
    "\n",
    "### Part 1:\n",
    "\n",
    "Find sum of all dirs with a size of at most 100000. Sub dirs are counted twice if they are in a dir that itself totals 100000 max.\n"
   ]
  },
  {
   "cell_type": "markdown",
   "metadata": {},
   "source": [
    "## Solution Functions\n"
   ]
  },
  {
   "cell_type": "code",
   "execution_count": 78,
   "metadata": {},
   "outputs": [],
   "source": [
    "from pathlib import Path\n",
    "\n",
    "def read_traversal_commands_from(file_name: str) -> str:\n",
    "    with open(file_name) as input_file:\n",
    "        return input_file.read().splitlines()\n",
    "\n",
    "def get_directory_tree_from(lines) -> dict:\n",
    "    current_level = Path(\"\") # This is what I was missing, keeping track of tree depth\n",
    "    directory_tree = {}\n",
    "    for line in lines:\n",
    "        if '$ cd' in line:\n",
    "            if '..' in line:\n",
    "                current_level = current_level.parent\n",
    "            else:\n",
    "                directory_name = line[5:] # Always will start \"$ cd \"\n",
    "                current_level = current_level / directory_name\n",
    "                if current_level not in directory_tree:\n",
    "                    directory_tree[current_level] = []\n",
    "        elif 'dir' in line:\n",
    "            _, directory_name = line.split(\" \")\n",
    "            directory_tree[current_level].append(current_level / directory_name)\n",
    "        elif line[0].isnumeric():\n",
    "            file_size, file_name = line.split(\" \")\n",
    "            directory_tree[current_level].append((file_name, int(file_size)))\n",
    "    return directory_tree\n",
    "\n",
    "def get_file_size_for(path: Path, directory_tree: dict) -> int:\n",
    "    total_size = 0\n",
    "    for object in directory_tree[path]:\n",
    "        if isinstance(object, tuple):\n",
    "            total_size += object[1]\n",
    "        elif isinstance(object, Path):\n",
    "            total_size += get_file_size_for(object, directory_tree)\n",
    "    return total_size\n",
    "\n",
    "def get_dir_sizes(directory_tree: dict) -> dict:\n",
    "    return {directory: get_file_size_for(directory, directory_tree) for directory in directory_tree}\n",
    "\n",
    "def get_filtered_size_for(dir_sizes: dict, threshold: int) -> int:\n",
    "    return sum(dir_size for dir_size in dir_sizes.values() if dir_size < threshold)\n",
    "\n",
    "def get_directory_to_free_up_enough_space(dir_sizes: dict, max_disk_space: int, required_disk_space: int) -> None:\n",
    "    total_space_used = dir_sizes[Path(\"/\")]\n",
    "    initial_free_space = max_disk_space - total_space_used\n",
    "    clearable_space = required_disk_space - initial_free_space\n",
    "\n",
    "    min_removeable_dir = (max_disk_space, Path(\"Random/Path\"))\n",
    "\n",
    "    for dir in dir_sizes:\n",
    "        if dir_sizes[dir] >= clearable_space:\n",
    "            if dir_sizes[dir] < min_removeable_dir[0]:\n",
    "                min_removeable_dir = (dir_sizes[dir], dir)\n",
    "    return min_removeable_dir[0]\n"
   ]
  },
  {
   "cell_type": "markdown",
   "metadata": {},
   "source": [
    "## Part 1 Test Cases\n"
   ]
  },
  {
   "cell_type": "markdown",
   "metadata": {},
   "source": [
    "## Part 1 Answer\n"
   ]
  },
  {
   "cell_type": "code",
   "execution_count": 70,
   "metadata": {},
   "outputs": [
    {
     "name": "stdout",
     "output_type": "stream",
     "text": [
      "2031851\n"
     ]
    }
   ],
   "source": [
    "lines = read_traversal_commands_from(\"day_7_input.txt\")\n",
    "directory_tree = get_directory_tree_from(lines)\n",
    "\n",
    "sizes = get_dir_sizes(directory_tree)\n",
    "answer = get_filtered_size_for(sizes, 100000)\n",
    "\n",
    "print(answer)"
   ]
  },
  {
   "cell_type": "markdown",
   "metadata": {},
   "source": [
    "## Part 2 Test Cases\n"
   ]
  },
  {
   "cell_type": "code",
   "execution_count": null,
   "metadata": {},
   "outputs": [],
   "source": []
  },
  {
   "cell_type": "markdown",
   "metadata": {},
   "source": [
    "## Part 2 Answer\n"
   ]
  },
  {
   "cell_type": "code",
   "execution_count": 79,
   "metadata": {},
   "outputs": [
    {
     "name": "stdout",
     "output_type": "stream",
     "text": [
      "2568781\n"
     ]
    }
   ],
   "source": [
    "lines = read_traversal_commands_from(\"day_7_input.txt\")\n",
    "directory_tree = get_directory_tree_from(lines)\n",
    "\n",
    "sizes = get_dir_sizes(directory_tree)\n",
    "answer = get_directory_to_free_up_enough_space(sizes, 70000000, 30000000)\n",
    "\n",
    "print(answer)"
   ]
  },
  {
   "cell_type": "code",
   "execution_count": null,
   "metadata": {},
   "outputs": [],
   "source": []
  }
 ],
 "metadata": {
  "kernelspec": {
   "display_name": "Python 3.7.3",
   "language": "python",
   "name": "python3"
  },
  "language_info": {
   "codemirror_mode": {
    "name": "ipython",
    "version": 3
   },
   "file_extension": ".py",
   "mimetype": "text/x-python",
   "name": "python",
   "nbconvert_exporter": "python",
   "pygments_lexer": "ipython3",
   "version": "3.7.3"
  },
  "orig_nbformat": 4,
  "vscode": {
   "interpreter": {
    "hash": "cf8360bec719338bb78b7a78da46310b2cfaf9983785919522efe702c72b0c76"
   }
  }
 },
 "nbformat": 4,
 "nbformat_minor": 2
}
